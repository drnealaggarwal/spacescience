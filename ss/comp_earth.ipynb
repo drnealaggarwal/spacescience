{
 "cells": [
  {
   "cell_type": "markdown",
   "id": "31ce2f76",
   "metadata": {},
   "source": [
    "# Astronomical explorations: The Earth\n",
    "### Author: Dr Neal Aggarwal\n",
    "\n",
    "The Earth revolves around the Solar Systems barycenter (the center of mass of every object in the solar system).\n",
    "In this jupyter notebook I run some python code to carry out basic investigations on the position of the\n",
    "Earth at the moment in time when I deveoped this code. This information will be needed later to compute \n",
    "distances to asteroids, spacecraft, make solar wind predictions etc.\n",
    "\n",
    "I have used Python and the NASA SPICE code library. `SPICE` is a c library so I've used the python wrapper for it which is names `spiceypy`. SPICE documentation is available from: https://naif.jpl.nasa.gov."
   ]
  },
  {
   "cell_type": "code",
   "execution_count": 24,
   "id": "1e7ef5e9",
   "metadata": {},
   "outputs": [],
   "source": [
    "# imports\n",
    "\n",
    "import spiceypy\n",
    "import datetime"
   ]
  },
  {
   "cell_type": "code",
   "execution_count": 16,
   "id": "432a9d52",
   "metadata": {},
   "outputs": [
    {
     "data": {
      "text/plain": [
       "'2023-03-02T00:00:00'"
      ]
     },
     "execution_count": 16,
     "metadata": {},
     "output_type": "execute_result"
    }
   ],
   "source": [
    "# compute date today\n",
    "\n",
    "date_today = datetime.datetime.today()\n",
    "date_today = date_today.strftime(\"%Y-%m-%dT00:00:00\")\n",
    "date_today"
   ]
  },
  {
   "cell_type": "code",
   "execution_count": 15,
   "id": "e0f3179a",
   "metadata": {},
   "outputs": [
    {
     "name": "stdout",
     "output_type": "stream",
     "text": [
      "730987269.1853896\n"
     ]
    }
   ],
   "source": [
    "# computer ephemeris time (time & scale inferred from the observed position of an astronomical object\n",
    "#    via the dynamical theory of its motion)\n",
    "# load kernels from https://naif.jpl.nasa.gov/pub/naif/generic_kernels/spk/planets/\n",
    "\n",
    "spiceypy.furnsh(\"/Users/nealaggarwal/spacescience/kernels/lsk/naif0012.tls\")\n",
    "spiceypy.furnsh(\"/Users/nealaggarwal/spacescience/kernels/spk/de432s.bsp\")\n",
    "et_today_midnight = spiceypy.utc2et(date_today)\n",
    "print(et_today_midnight)"
   ]
  },
  {
   "cell_type": "code",
   "execution_count": 21,
   "id": "3fe93284",
   "metadata": {},
   "outputs": [
    {
     "name": "stdout",
     "output_type": "stream",
     "text": [
      "[-1.39999454e+08  4.87078184e+07 -2.16606265e+03 -1.02613318e+01\n",
      " -2.82459159e+01  1.06268985e-03]\n"
     ]
    }
   ],
   "source": [
    "# state vector - position and velocity info\n",
    "# earth barycentre is 399\n",
    "# ECLIPJ2000 is the eccliptic plane\n",
    "\n",
    "earth_state_wrt_sun, earth_sun_light_time = spiceypy.spkgeo(targ=399, et=et_today_midnight,\n",
    "                                                           ref=\"ECLIPJ2000\", obs=10)\n",
    "print(earth_state_wrt_sum)"
   ]
  },
  {
   "cell_type": "code",
   "execution_count": 22,
   "id": "b4ef87d4",
   "metadata": {},
   "outputs": [
    {
     "name": "stdout",
     "output_type": "stream",
     "text": [
      "148230559.38789618\n"
     ]
    }
   ],
   "source": [
    "# distance from Earth to Sun (Euclidean)\n",
    "\n",
    "import math\n",
    "earth_sun_distance = math.sqrt(earth_state_wrt_sun[0] ** 2.0\n",
    "                              + earth_state_wrt_sun[1] ** 2.0\n",
    "                              + earth_state_wrt_sun[2] ** 2.0)\n",
    "print(earth_sun_distance)"
   ]
  },
  {
   "cell_type": "code",
   "execution_count": 23,
   "id": "8ca0a4dd",
   "metadata": {},
   "outputs": [
    {
     "name": "stdout",
     "output_type": "stream",
     "text": [
      "0.9908600889826598\n"
     ]
    }
   ],
   "source": [
    "# convert to AU\n",
    "\n",
    "earth_sun_distance_au = spiceypy.convrt(earth_sun_distance, \"km\", \"au\")\n",
    "print(earth_sun_distance_au)"
   ]
  },
  {
   "cell_type": "code",
   "execution_count": null,
   "id": "7b9b660f",
   "metadata": {},
   "outputs": [],
   "source": []
  }
 ],
 "metadata": {
  "kernelspec": {
   "display_name": "ss",
   "language": "python",
   "name": "ss"
  },
  "language_info": {
   "codemirror_mode": {
    "name": "ipython",
    "version": 3
   },
   "file_extension": ".py",
   "mimetype": "text/x-python",
   "name": "python",
   "nbconvert_exporter": "python",
   "pygments_lexer": "ipython3",
   "version": "3.10.9"
  }
 },
 "nbformat": 4,
 "nbformat_minor": 5
}
